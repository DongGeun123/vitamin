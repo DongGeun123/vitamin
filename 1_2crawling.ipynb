{
 "cells": [
  {
   "cell_type": "code",
   "execution_count": 1,
   "metadata": {},
   "outputs": [],
   "source": [
    "import requests\n",
    "from bs4 import BeautifulSoup\n",
    "import matplotlib.pyplot as plt\n",
    "import seaborn as sns\n",
    "import json\n",
    "import re\n",
    "import pandas as pd\n",
    "import csv\n",
    "import time\n",
    "from selenium import webdriver\n",
    "from selenium.webdriver.common.keys import Keys\n",
    "\n"
   ]
  },
  {
   "cell_type": "code",
   "execution_count": 2,
   "metadata": {},
   "outputs": [],
   "source": [
    "\n",
    "driver = webdriver.Chrome('./chromedriver.exe')\n",
    "driver.get('https://www.instagram.com/')"
   ]
  },
  {
   "cell_type": "code",
   "execution_count": 3,
   "metadata": {},
   "outputs": [],
   "source": [
    "\n",
    "id_='seulyeon1122'\n",
    "password_='jksy05312!'\n",
    "ID=driver.find_element_by_css_selector(\"#loginForm > div > div:nth-child(1) > div > label > input\")\n",
    "ID.send_keys(id_)\n",
    "PW=driver.find_element_by_css_selector(\"#loginForm > div > div:nth-child(2) > div > label > input\")\n",
    "PW.send_keys(password_)\n",
    "login=driver.find_element_by_css_selector(\"#loginForm > div > div:nth-child(3)\")\n",
    "login.click()\n",
    "time.sleep(3)\n",
    "login2=driver.find_element_by_css_selector(\"#react-root > section > main > div > div > div > div > button\") #로그인정보 저장 창\n",
    "login2.click()\n",
    "time.sleep(3)\n",
    "login3=driver.find_element_by_css_selector(\"body > div.RnEpo.Yx5HN > div > div > div > div.mt3GC > button.aOOlW.HoLwm\")#알림설정 창\n",
    "login3.click()\n"
   ]
  },
  {
   "cell_type": "code",
   "execution_count": 4,
   "metadata": {},
   "outputs": [],
   "source": [
    "time.sleep(2)\n",
    "search=driver.find_element_by_css_selector(\"#react-root > section > nav > div._8MQSO.Cx7Bp > div > div > div.LWmhU._0aCwM > input\")\n",
    "search.send_keys('bitamin_official')\n"
   ]
  },
  {
   "cell_type": "code",
   "execution_count": 5,
   "metadata": {},
   "outputs": [],
   "source": [
    "time.sleep(2)\n",
    "search.send_keys(Keys.ENTER)\n",
    "search.send_keys(Keys.ENTER)\n",
    "time.sleep(5)"
   ]
  },
  {
   "cell_type": "code",
   "execution_count": 10,
   "metadata": {},
   "outputs": [],
   "source": [
    "def click_first(driver):\n",
    "    first = driver.find_element_by_css_selector('#react-root > section > main > div > div._2z6nI > article > div:nth-child(1) > div > div:nth-child(1) > div:nth-child(1) > a > div.eLAPa > div._9AhH0')\n",
    "    first.click()\n",
    "    time.sleep(3)\n"
   ]
  },
  {
   "cell_type": "code",
   "execution_count": 47,
   "metadata": {},
   "outputs": [],
   "source": [
    "def get_content(driver):\n",
    "\n",
    "    # 1. 현재 게시글 html 정보 가져오기\n",
    "    html = driver.page_source\n",
    "    soup = BeautifulSoup(html, 'lxml')\n",
    "\n",
    "\n",
    "    # 2. 본문 내용 가져오기\n",
    "    # 본문 내용이 없을 수 있으므로 예외 처리구문을 이용\n",
    "    try:\n",
    "        content = soup.select('div.C4VMK > span')[0].text\n",
    "    except:\n",
    "        content = ''\n",
    "\n",
    "    # 3. 작성 일시, 좋아요 수 , 위치 정보 가져오기\n",
    "    # 해쉬 태그는 정규 표현식을 이용해 가져온다.\n",
    "    try:\n",
    "        tags = soup.select('div.C4VMK > span')[1].text\n",
    "    except:\n",
    "        tags = ''\n",
    "    tags = re.findall(r'#[^\\s#,\\\\]+', tags)  \n",
    "\n",
    "    #  작성일자 정보 가져오기\n",
    "    date = soup.select('time._1o9PC.Nzb55')[0]['datetime'][:10]\n",
    "\n",
    "    #  좋아요 수 가져오기\n",
    "    # 예외처리구문.\n",
    "    try:\n",
    "        like = soup.select('div.Nm9Fw')[0].text[4:-1]   \n",
    "    except:\n",
    "        like = 0\n",
    "    # 위치정보\n",
    "    data = [content, date, like, tags]\n",
    "    return data"
   ]
  },
  {
   "cell_type": "code",
   "execution_count": 16,
   "metadata": {},
   "outputs": [],
   "source": [
    "def next_page(driver):\n",
    "    next_page = driver.find_element_by_css_selector('body > div._2dDPU.CkGkG > div.EfHg9 > div > div > a._65Bje.coreSpriteRightPaginationArrow')\n",
    "    next_page.click()\n",
    "    time.sleep(3)"
   ]
  },
  {
   "cell_type": "code",
   "execution_count": 48,
   "metadata": {},
   "outputs": [],
   "source": [
    "click_first(driver)\n",
    "result=[]\n",
    "for i in range(6):\n",
    "    data=get_content(driver)\n",
    "    result.append(data)\n",
    "    next_page(driver)"
   ]
  },
  {
   "cell_type": "code",
   "execution_count": 49,
   "metadata": {
    "scrolled": true
   },
   "outputs": [
    {
     "data": {
      "text/html": [
       "<div>\n",
       "<style scoped>\n",
       "    .dataframe tbody tr th:only-of-type {\n",
       "        vertical-align: middle;\n",
       "    }\n",
       "\n",
       "    .dataframe tbody tr th {\n",
       "        vertical-align: top;\n",
       "    }\n",
       "\n",
       "    .dataframe thead th {\n",
       "        text-align: right;\n",
       "    }\n",
       "</style>\n",
       "<table border=\"1\" class=\"dataframe\">\n",
       "  <thead>\n",
       "    <tr style=\"text-align: right;\">\n",
       "      <th></th>\n",
       "      <th>본문</th>\n",
       "      <th>날짜</th>\n",
       "      <th>좋아요</th>\n",
       "      <th>해쉬태그</th>\n",
       "    </tr>\n",
       "  </thead>\n",
       "  <tbody>\n",
       "    <tr>\n",
       "      <th>0</th>\n",
       "      <td>✨렛유인' X '비타민(BITAmin)✨&lt;이공계 전문...</td>\n",
       "      <td>2021-02-22</td>\n",
       "      <td>14</td>\n",
       "      <td>[#비타민, #bitamin, #빅데이터, #데이터분석, #머신러닝, #연합동아리,...</td>\n",
       "    </tr>\n",
       "    <tr>\n",
       "      <th>1</th>\n",
       "      <td>🎉 2월 20일 세션 공지 🎉이번 주 세션을 공지합니다👋이번 주 6기는 '웹 크롤링...</td>\n",
       "      <td>2021-02-19</td>\n",
       "      <td>22</td>\n",
       "      <td>[#비타민, #bitamin, #빅데이터, #연합동아리, #동아리, #대외활동, #...</td>\n",
       "    </tr>\n",
       "    <tr>\n",
       "      <th>2</th>\n",
       "      <td>🍊비타민 2021-1학기 자율세션🍊오늘부터 비타민 2021년도 1학기 자율세션 신청...</td>\n",
       "      <td>2021-02-12</td>\n",
       "      <td>20</td>\n",
       "      <td>[#비타민, #bitamin, #빅데이터, #데이터분석, #머신러닝, #연합동아리,...</td>\n",
       "    </tr>\n",
       "    <tr>\n",
       "      <th>3</th>\n",
       "      <td>2월 6일 종강총회2월 6일에 비타민 5기와 6기의 종강총회가 있었습니다!사회적 거...</td>\n",
       "      <td>2021-02-10</td>\n",
       "      <td>55</td>\n",
       "      <td>[#비타민, #bitamin, #빅데이터, #데이터분석, #머신러닝, #연합동아리,...</td>\n",
       "    </tr>\n",
       "    <tr>\n",
       "      <th>4</th>\n",
       "      <td>[면접 공지]안녕하세요, 비타민 운영진ᄋ...</td>\n",
       "      <td>2021-02-05</td>\n",
       "      <td>36</td>\n",
       "      <td>[#비타민, #bitamin, #빅데이터, #데이터분석, #머신러닝, #연합동아리,...</td>\n",
       "    </tr>\n",
       "    <tr>\n",
       "      <th>5</th>\n",
       "      <td>🍊2월 6일 종강총회🍊이번 주는 5, 6기가 같이 모일 수 있는 마지막 날인데요😭바...</td>\n",
       "      <td>2021-02-04</td>\n",
       "      <td>18</td>\n",
       "      <td>[#비타민, #bitamin, #빅데이터, #데이터분석, #머신러닝, #연합동아리,...</td>\n",
       "    </tr>\n",
       "  </tbody>\n",
       "</table>\n",
       "</div>"
      ],
      "text/plain": [
       "                                                  본문          날짜 좋아요  \\\n",
       "0  ✨렛유인' X '비타민(BITAmin)✨<이공계 전문...  2021-02-22  14   \n",
       "1  🎉 2월 20일 세션 공지 🎉이번 주 세션을 공지합니다👋이번 주 6기는 '웹 크롤링...  2021-02-19  22   \n",
       "2  🍊비타민 2021-1학기 자율세션🍊오늘부터 비타민 2021년도 1학기 자율세션 신청...  2021-02-12  20   \n",
       "3  2월 6일 종강총회2월 6일에 비타민 5기와 6기의 종강총회가 있었습니다!사회적 거...  2021-02-10  55   \n",
       "4  [면접 공지]안녕하세요, 비타민 운영진ᄋ...  2021-02-05  36   \n",
       "5  🍊2월 6일 종강총회🍊이번 주는 5, 6기가 같이 모일 수 있는 마지막 날인데요😭바...  2021-02-04  18   \n",
       "\n",
       "                                                해쉬태그  \n",
       "0  [#비타민, #bitamin, #빅데이터, #데이터분석, #머신러닝, #연합동아리,...  \n",
       "1  [#비타민, #bitamin, #빅데이터, #연합동아리, #동아리, #대외활동, #...  \n",
       "2  [#비타민, #bitamin, #빅데이터, #데이터분석, #머신러닝, #연합동아리,...  \n",
       "3  [#비타민, #bitamin, #빅데이터, #데이터분석, #머신러닝, #연합동아리,...  \n",
       "4  [#비타민, #bitamin, #빅데이터, #데이터분석, #머신러닝, #연합동아리,...  \n",
       "5  [#비타민, #bitamin, #빅데이터, #데이터분석, #머신러닝, #연합동아리,...  "
      ]
     },
     "execution_count": 49,
     "metadata": {},
     "output_type": "execute_result"
    }
   ],
   "source": [
    "result_dataframe = pd.DataFrame(result)\n",
    "result_dataframe.columns = ['본문','날짜','좋아요','해쉬태그']\n",
    "result_dataframe"
   ]
  },
  {
   "cell_type": "code",
   "execution_count": 51,
   "metadata": {},
   "outputs": [],
   "source": [
    "import unicodedata\n",
    "for i in range(6):\n",
    "    result_dataframe['본문'][i]=unicodedata.normalize('NFC', result_dataframe['본문'][i]) #자모음 분리 방지"
   ]
  },
  {
   "cell_type": "code",
   "execution_count": 53,
   "metadata": {},
   "outputs": [],
   "source": [
    "result_dataframe.to_csv(\"1주차 복습과제_6기_김동근.csv\",encoding='utf-8-sig')"
   ]
  },
  {
   "cell_type": "code",
   "execution_count": null,
   "metadata": {},
   "outputs": [],
   "source": []
  }
 ],
 "metadata": {
  "kernelspec": {
   "display_name": "Python 3",
   "language": "python",
   "name": "python3"
  },
  "language_info": {
   "codemirror_mode": {
    "name": "ipython",
    "version": 3
   },
   "file_extension": ".py",
   "mimetype": "text/x-python",
   "name": "python",
   "nbconvert_exporter": "python",
   "pygments_lexer": "ipython3",
   "version": "3.7.6"
  }
 },
 "nbformat": 4,
 "nbformat_minor": 4
}
