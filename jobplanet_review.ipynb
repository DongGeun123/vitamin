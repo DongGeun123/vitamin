{
 "cells": [
  {
   "cell_type": "code",
   "execution_count": 1,
   "metadata": {},
   "outputs": [],
   "source": [
    "from bs4 import BeautifulSoup\n",
    "from selenium import webdriver\n",
    "from selenium.webdriver.common.keys import Keys\n",
    "import time\n",
    "import pandas as pd\n",
    "from selenium.webdriver.common.by import By\n",
    "from selenium.webdriver.support.ui import WebDriverWait\n",
    "from selenium.webdriver.support import expected_conditions as EC\n",
    "from selenium.common.exceptions import TimeoutException\n",
    "import re\n",
    "import math\n",
    "usr = \"kdg5188@sogang.ac.kr\"\n",
    "pwd = \"ehdrms3479@\"\n",
    "\n"
   ]
  },
  {
   "cell_type": "code",
   "execution_count": 2,
   "metadata": {},
   "outputs": [],
   "source": [
    "div=['IT/인터넷',\n",
    "'경영/기획/컨설팅',\n",
    "'교육',\n",
    "'금융/재무','디자인',\n",
    "'마케팅/시장조사',\n",
    "'미디어/홍보',\n",
    "'법률/법무',\n",
    "'생산/제조',\n",
    "'생산관리/품질관리',\n",
    "'서비스/고객지원',\n",
    "'엔지니어링',\n",
    "'연구개발',\n",
    "'영업/제휴',\n",
    "'유통/무역',\n",
    "'의약',\n",
    "'인사/총무',\n",
    "'전문직',\n",
    "'특수계층/공공','기타']\n",
    "list_div = []\n",
    "list_date =[]\n",
    "list_stars = []\n",
    "list_summery = []\n",
    "list_merit = []\n",
    "list_disadvantages = []\n",
    "list_managers =[]\n",
    "list_name=[]"
   ]
  },
  {
   "cell_type": "code",
   "execution_count": 3,
   "metadata": {},
   "outputs": [],
   "source": [
    "\n",
    "\n",
    "\n",
    "# step3.크롬드라이버 실행 및 잡플래닛 로그인\n",
    "options = webdriver.ChromeOptions() # 크롬 옵션 객체 생성\n",
    "options.add_argument('headless') # headless 모드 설정\n",
    "options.add_argument(\"window-size=1920x1080\") # 화면크기(전체화면)\n",
    "options.add_argument(\"disable-gpu\") \n",
    "options.add_argument(\"disable-infobars\")\n",
    "options.add_argument(\"--disable-extensions\")\n",
    "\n",
    "# 속도 향상을 위한 옵션 해제\n",
    "prefs = {'profile.default_content_setting_values': {'cookies' : 2, 'images': 2, 'plugins' : 2, 'popups': 2, 'geolocation': 2, 'notifications' : 2, 'auto_select_certificate': 2, 'fullscreen' : 2, 'mouselock' : 2, 'mixed_script': 2, 'media_stream' : 2, 'media_stream_mic' : 2, 'media_stream_camera': 2, 'protocol_handlers' : 2, 'ppapi_broker' : 2, 'automatic_downloads': 2, 'midi_sysex' : 2, 'push_messaging' : 2, 'ssl_cert_decisions': 2, 'metro_switch_to_desktop' : 2, 'protected_media_identifier': 2, 'app_banner': 2, 'site_engagement' : 2, 'durable_storage' : 2}}   \n",
    "options.add_experimental_option('prefs', prefs)\n",
    "\n",
    "driver = webdriver.Chrome('chromedriver.exe', options=options)\n",
    "driver.get(\"https://www.jobplanet.co.kr\") #https://www.jobplanet.co.kr/companies?&\n",
    "driver.maximize_window()\n",
    "\n",
    "time.sleep(5)\n",
    "login=driver.find_element_by_css_selector(\"body > div.body_wrap > div.globalHeaderWrap > header > div.right_box > div.login_before.show > a.btn_txt.login > span\")\n",
    "login.click()\n",
    "\n",
    "login_id = driver.find_element_by_css_selector(\"input#user_email\")\n",
    "login_id.send_keys(usr)\n",
    "\n",
    "login_pwd = driver.find_element_by_css_selector(\"input#user_password\")\n",
    "\n",
    "login_pwd.send_keys(pwd)\n",
    "\n",
    "login_id.send_keys(Keys.RETURN)\n",
    "time.sleep(5)\n",
    "\n",
    "\n",
    "rank=driver.find_element_by_css_selector(\"body > div.body_wrap > div.globalHeaderWrap > header > nav > ul > li.companies.btn_global_header > a\")\n",
    "rank.click()\n",
    "time.sleep(3)\n",
    "\n",
    "rank2=driver.find_element_by_css_selector(\"body > div.body_wrap > div.globalHeaderWrap > header > div.global_header_modal.global_header_open > div.header_modal_wrap > div > div.header_modal_left > div.modal_left_top > div > a > span\")\n",
    "rank2.click()\n",
    "time.sleep(5)\n",
    "# :nth-child 안 숫자 조정해서 산업군 별로\n",
    "driver.find_element_by_css_selector(\"#navIndustrySide > div > div.side_body > ul > li:nth-child(3) > a > span\").click()\n",
    "# 산업군 선택 페이지 저장\n",
    "currnet_url = driver.current_url\n",
    "\n"
   ]
  },
  {
   "cell_type": "code",
   "execution_count": null,
   "metadata": {
    "scrolled": true
   },
   "outputs": [
    {
     "name": "stdout",
     "output_type": "stream",
     "text": [
      "3 산업\n"
     ]
    }
   ],
   "source": [
    "for i in range(3,5): #range(1,11)\n",
    "    driver.find_element_by_css_selector(\"#listCompanies > div > div.section_group > section:nth-child({}) > div > div > dl.content_col2_3.cominfo > dt > a\".format(i)).click()\n",
    "    #회사 페이지 들어가기\n",
    "    print(i,\"산업\")\n",
    "    try:\n",
    "        WebDriverWait(driver, 45).until(EC.presence_of_element_located((By.CSS_SELECTOR, \"span.txt1\")))\n",
    "    except:\n",
    "        driver.refresh()\n",
    "        time.sleep(5)\n",
    "        pass\n",
    "    \n",
    "    #프리미엄 구매 버튼 체크\n",
    "    try:\n",
    "        premium = driver.find_element_by_css_selector('#premiumReviewChart > div > div.layer_popup_box.layer_popup_box_on > div.layer_popup.jply_modal.premium_review_inform > div > div.premium_modal_header > button')\n",
    "        premium.click()\n",
    "    except:\n",
    "        pass\n",
    "    #회사 이름 저장\n",
    "    name=driver.find_element_by_css_selector(\"body > div.body_wrap > div.cmp_hd > div.new_top_bnr > div > div.top_bnr_wrap > div > div > div.company_info_sec > div.company_info_box > div.company_name > h1 > a\").text\n",
    "    page= math.ceil(int(driver.find_element_by_css_selector(\"#viewCompaniesMenu > ul > li.viewReviews > a > span\").text)/5)\n",
    "    \n",
    "    for k in range(1,page+1): #페이지 수대로 for문\n",
    "        # css_selector가 span.txt1인 element가 로딩될 때 까지 10초 대기\n",
    "        try:\n",
    "            WebDriverWait(driver, 40).until(EC.presence_of_element_located((By.CSS_SELECTOR, \"span.txt1\")))\n",
    "            print(k,\"page element로딩완료\")\n",
    "        except TimeoutException:\n",
    "        # 실패 시에는 에러메시지로 Time Out 출력\n",
    "            print('Time Out')\n",
    "            pass        \n",
    "    \n",
    "        #직무, 근속여부, 일시\n",
    "        count=0\n",
    "        list_user_info=[j.text for j in driver.find_elements_by_css_selector(\"span.txt1\")]\n",
    "        for x in list_user_info:\n",
    "            if re.match(\"\\d\",x):\n",
    "                count+=1\n",
    "                list_date.append(x)\n",
    "            elif x in div:\n",
    "                list_div.append(x)\n",
    "\n",
    "        #별점\n",
    "        stars = driver.find_elements_by_css_selector(\"div.star_score\")\n",
    "        for j in stars:\n",
    "            a = j.get_attribute('style')\n",
    "            if a[7:9] == '20':\n",
    "                list_stars.append(\"1점\")\n",
    "            elif a[7:9] == '40':\n",
    "                list_stars.append(\"2점\")\n",
    "            elif a[7:9] == '60':\n",
    "                list_stars.append(\"3점\")\n",
    "            elif a[7:9] == '80':\n",
    "                list_stars.append(\"4점\")\n",
    "            else:\n",
    "                list_stars.append(\"5점\")\n",
    "        #요약 정보\n",
    "        list_summery+=[j.text for j in driver.find_elements_by_css_selector(\"h2.us_label\")]\n",
    "        #장점, 단점, 경영진에게 바라는 점\n",
    "\n",
    "        list_review = [j.text for j in driver.find_elements_by_css_selector(\"dd.df1\")]\n",
    "\n",
    "\n",
    "        for j in range(count):      #한 페이지에 정보 5set씩 나옴. 마지막 페이지는 5개 미만일 수 있으므로 count 변수를 반복횟수로 넣어줌.\n",
    "            a = list_review[3*j]\n",
    "            list_merit.append(a)\n",
    "        \n",
    "            b = list_review[3*j+1]\n",
    "            list_disadvantages.append(b)\n",
    "\n",
    "            c = list_review[3*j+2]\n",
    "            list_managers.append(c)\n",
    "            list_name.append(name)\n",
    "\n",
    "        # 다음 페이지 클릭 후 for문 진행, 끝 페이지에서 다음 페이지 클릭 안되는 것 대비해서 예외처리 구문 추가\n",
    "        try:\n",
    "            driver.find_element_by_css_selector(\"#viewReviewsList > div > div > div > div.pg_bottom.um_paginnation > article > a.btn_pgnext\").click()\n",
    "            time.sleep(15)\n",
    "            #print(k+1,\"페이지넘어감\")\n",
    "                \n",
    "        except:\n",
    "            print(\"다음 페이지 오류\")\n",
    "            \n",
    "    driver.get(currnet_url)        \n",
    "    time.sleep(15)\n",
    "    \n"
   ]
  },
  {
   "cell_type": "code",
   "execution_count": 13,
   "metadata": {},
   "outputs": [],
   "source": [
    "total_data = pd.DataFrame()\n",
    "total_data['회사'] = pd.Series(list_name)\n",
    "total_data['날짜'] = pd.Series(list_date)\n",
    "total_data['직무'] = pd.Series(list_div)\n",
    "total_data['별점'] = pd.Series(list_stars)\n",
    "total_data['요약'] = pd.Series(list_summery)\n",
    "total_data['장점'] = pd.Series(list_merit)\n",
    "total_data['단점'] = pd.Series(list_disadvantages)\n",
    "total_data['경영진에게 바라는 점'] = pd.Series(list_managers)\n",
    "\n",
    "# step9.엑셀 형태로 저장하기\n",
    "total_data.to_excel(\"의료3~4 리뷰 정리.xls\" ,index=True)\n",
    "\n",
    "# step10.크롬 드라이버 종료\n",
    "driver.close()"
   ]
  },
  {
   "cell_type": "code",
   "execution_count": 8,
   "metadata": {},
   "outputs": [
    {
     "data": {
      "text/plain": [
       "[1, 2, 3, 4, 5, 6, 7, 8, 9]"
      ]
     },
     "execution_count": 8,
     "metadata": {},
     "output_type": "execute_result"
    }
   ],
   "source": [
    "[k for k in range(1,10)]"
   ]
  },
  {
   "cell_type": "code",
   "execution_count": 10,
   "metadata": {},
   "outputs": [
    {
     "data": {
      "text/plain": [
       "'업무 강도'"
      ]
     },
     "execution_count": 10,
     "metadata": {},
     "output_type": "execute_result"
    }
   ],
   "source": [
    "list_disadvantages[-1]"
   ]
  },
  {
   "cell_type": "code",
   "execution_count": 7,
   "metadata": {},
   "outputs": [
    {
     "data": {
      "text/plain": [
       "329"
      ]
     },
     "execution_count": 7,
     "metadata": {},
     "output_type": "execute_result"
    }
   ],
   "source": [
    "page"
   ]
  },
  {
   "cell_type": "code",
   "execution_count": 18,
   "metadata": {},
   "outputs": [],
   "source": [
    "driver = webdriver.Chrome('chromedriver.exe')\n",
    "driver.get(\"https://www.jobplanet.co.kr\")\n",
    "time.sleep(5)\n",
    "login=driver.find_element_by_css_selector(\"body > div.body_wrap > div.globalHeaderWrap > header > div.right_box > div.login_before.show > a.btn_txt.login > span\")\n",
    "login.click()\n",
    "\n",
    "login_id = driver.find_element_by_css_selector(\"input#user_email\")\n",
    "login_id.send_keys(usr)\n",
    "\n",
    "login_pwd = driver.find_element_by_css_selector(\"input#user_password\")\n",
    "\n",
    "login_pwd.send_keys(pwd)\n",
    "\n",
    "login_id.send_keys(Keys.RETURN)\n",
    "time.sleep(5)\n",
    "\n",
    "\n",
    "rank=driver.find_element_by_css_selector(\"body > div.body_wrap > div.globalHeaderWrap > header > nav > ul > li.companies.btn_global_header > a\")\n",
    "rank.click()\n",
    "time.sleep(3)\n",
    "\n",
    "rank2=driver.find_element_by_css_selector(\"body > div.body_wrap > div.globalHeaderWrap > header > div.global_header_modal.global_header_open > div.header_modal_wrap > div > div.header_modal_left > div.modal_left_top > div > a > span\")\n",
    "rank2.click()\n",
    "time.sleep(5)\n",
    "# :nth-child 안 숫자 조정해서 산업군 별로\n",
    "driver.find_element_by_css_selector(\"#navIndustrySide > div > div.side_body > ul > li:nth-child(2) > a > span\").click()\n",
    "# 산업군 선택 페이지 저장\n",
    "currnet_url = driver.current_url\n"
   ]
  },
  {
   "cell_type": "code",
   "execution_count": null,
   "metadata": {},
   "outputs": [],
   "source": [
    "user_info = driver.find_elements_by_css_selector(\"span.txt1\")\n",
    "count = int(len(user_info)/4)\n",
    "        #직무, 근속여부, 일시\n",
    "list_user_info = []\n",
    "\n",
    "for j in user_info:\n",
    "    list_user_info.append(j.text)"
   ]
  },
  {
   "cell_type": "code",
   "execution_count": 17,
   "metadata": {},
   "outputs": [
    {
     "data": {
      "text/plain": [
       "['생산/제조', '생산/제조']"
      ]
     },
     "execution_count": 17,
     "metadata": {},
     "output_type": "execute_result"
    }
   ],
   "source": [
    "list_div"
   ]
  },
  {
   "cell_type": "code",
   "execution_count": 15,
   "metadata": {},
   "outputs": [],
   "source": [
    "count=0\n",
    "list_user_info=[j.text for j in driver.find_elements_by_css_selector(\"span.txt1\")]\n",
    "for x in list_user_info:\n",
    "    if re.match(\"\\d\",x):\n",
    "        count+=1\n",
    "        list_date.append(x)\n",
    "    elif x in div:\n",
    "        list_div.append(x)\n",
    "\n",
    "        #별점\n",
    "stars = driver.find_elements_by_css_selector(\"div.star_score\")\n",
    "for j in stars:\n",
    "    a = j.get_attribute('style')\n",
    "    if a[7:9] == '20':\n",
    "        list_stars.append(\"1점\")\n",
    "    elif a[7:9] == '40':\n",
    "        list_stars.append(\"2점\")\n",
    "    elif a[7:9] == '60':\n",
    "        list_stars.append(\"3점\")\n",
    "    elif a[7:9] == '80':\n",
    "        list_stars.append(\"4점\")\n",
    "    else:\n",
    "        list_stars.append(\"5점\")\n",
    "        #요약 정보\n",
    "list_summery+=[j.text for j in driver.find_elements_by_css_selector(\"h2.us_label\")]\n",
    "        #장점, 단점, 경영진에게 바라는 점\n",
    "\n",
    "list_review = [j.text for j in driver.find_elements_by_css_selector(\"dd.df1\")]\n",
    "\n",
    "\n",
    "for j in range(count):      #한 페이지에 정보 5set씩 나옴. 마지막 페이지는 5개 미만일 수 있으므로 count 변수를 반복횟수로 넣어줌.\n",
    "    a = list_review[3*j]\n",
    "    list_merit.append(a)\n",
    "        \n",
    "    b = list_review[3*j+1]\n",
    "    list_disadvantages.append(b)\n",
    "\n",
    "    c = list_review[3*j+2]\n",
    "    list_managers.append(c)\n",
    "    list_name.append(name)"
   ]
  },
  {
   "cell_type": "code",
   "execution_count": 32,
   "metadata": {},
   "outputs": [
    {
     "data": {
      "text/plain": [
       "1317"
      ]
     },
     "execution_count": 32,
     "metadata": {},
     "output_type": "execute_result"
    }
   ],
   "source": [
    "int(int(driver.find_element_by_css_selector(\"#viewCompaniesMenu > ul > li.viewReviews > a > span\").text)/5+1)"
   ]
  },
  {
   "cell_type": "code",
   "execution_count": null,
   "metadata": {},
   "outputs": [],
   "source": []
  }
 ],
 "metadata": {
  "kernelspec": {
   "display_name": "Python 3",
   "language": "python",
   "name": "python3"
  },
  "language_info": {
   "codemirror_mode": {
    "name": "ipython",
    "version": 3
   },
   "file_extension": ".py",
   "mimetype": "text/x-python",
   "name": "python",
   "nbconvert_exporter": "python",
   "pygments_lexer": "ipython3",
   "version": "3.7.6"
  }
 },
 "nbformat": 4,
 "nbformat_minor": 4
}
